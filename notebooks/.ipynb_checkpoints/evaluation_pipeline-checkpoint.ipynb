{
 "cells": [
  {
   "cell_type": "code",
   "execution_count": 2,
   "id": "316f4497-6021-4788-960b-7c192e904774",
   "metadata": {},
   "outputs": [
    {
     "name": "stderr",
     "output_type": "stream",
     "text": [
      "/work/project/cenv/ssl4eo/lib/python3.10/site-packages/tqdm/auto.py:21: TqdmWarning: IProgress not found. Please update jupyter and ipywidgets. See https://ipywidgets.readthedocs.io/en/stable/user_install.html\n",
      "  from .autonotebook import tqdm as notebook_tqdm\n"
     ]
    }
   ],
   "source": [
    "import os\n",
    "from pathlib import Path\n",
    "import sys\n",
    "import torch\n",
    "import numpy as np\n",
    "import matplotlib.pyplot as plt\n",
    "import seaborn as sns\n",
    "\n",
    "if Path(os.getcwd()).name != \"SSL4EO_base\":\n",
    "    os.chdir(\"..\")\n",
    "\n",
    "from main import METHODS\n",
    "from data import constants\n",
    "from data.constants import MMEARTH_DIR, input_size\n",
    "from data.mmearth_dataset import MMEarthDataset, create_MMEearth_args, get_mmearth_dataloaders"
   ]
  },
  {
   "cell_type": "code",
   "execution_count": 13,
   "id": "c00d7307-2a1d-4dbc-8db2-495bc205a557",
   "metadata": {},
   "outputs": [],
   "source": [
    "def load_model(method):\n",
    "    model_path = f\"/work/data/weights/{method}/50epochs.ckpt\" # replace with your own path to data\n",
    "    model_ckpt = torch.load(model_path, map_location=\"cpu\") # no gpu required for running small samples\n",
    "    \n",
    "    hyperparameters=model_ckpt[\"hyper_parameters\"]\n",
    "    print(hyperparameters)\n",
    "    # intialize model from checkpoint hyper parameters\n",
    "    hparams = model_ckpt[\"hyper_parameters\"]\n",
    "    model = METHODS[method][\"model\"](\n",
    "        backbone=hparams[\"backbone\"], \n",
    "        batch_size_per_device=hparams[\"batch_size_per_device\"], \n",
    "        in_channels=hparams[\"in_channels\"], \n",
    "        num_classes=hparams[\"num_classes\"], \n",
    "        has_online_classifier=hparams[\"has_online_classifier\"], \n",
    "        last_backbone_channel=hparams[\"last_backbone_channel\"], \n",
    "        train_transform=METHODS[method][\"transform\"]\n",
    "    )\n",
    "    model.load_state_dict(model_ckpt[\"state_dict\"])\n",
    "    return model \n",
    "\n",
    "def init_mmearth():\n",
    "    modalities = constants.INP_MODALITIES\n",
    "    split = \"train\"\n",
    "    args = create_MMEearth_args(MMEARTH_DIR, modalities, {\"biome\": constants.MODALITIES_FULL[\"biome\"]})\n",
    "    dataset = MMEarthDataset(args, split=split)\n",
    "    return dataset\n",
    "\n",
    "def retrieve_representations():\n",
    "    num_samples = 1000\n",
    "\n",
    "    s2 = []\n",
    "    biome = []\n",
    "    for idx in range(num_samples):\n",
    "        data = dataset[idx]\n",
    "        s2.append(torch.from_numpy(data[\"sentinel2\"]))\n",
    "        biome.append(data[\"biome\"])\n",
    "    \n",
    "    # stack to shape: b, c, h, w\n",
    "    s2 = torch.stack(s2, 0)\n",
    "    \n",
    "    # concatentate to shape: b\n",
    "    biome = np.stack(biome, 0)\n",
    "    with torch.no_grad():\n",
    "        model.eval()\n",
    "        z = model(s2).flatten(start_dim=1)\n",
    "    \n",
    "    return z\n",
    "    \n",
    "    "
   ]
  },
  {
   "cell_type": "code",
   "execution_count": 12,
   "id": "a096d2df-15be-4619-9b37-e02ba71430b0",
   "metadata": {},
   "outputs": [
    {
     "name": "stdout",
     "output_type": "stream",
     "text": [
      "{'backbone': 'default', 'batch_size_per_device': 512, 'in_channels': 12, 'num_classes': 14, 'has_online_classifier': True, 'last_backbone_channel': None, 'method': 'BarlowTwins'}\n",
      "Using default backbone: resnet50\n"
     ]
    }
   ],
   "source": [
    "model=load_model('barlowtwins')\n",
    "\n",
    "dataset=init_mmearth()\n",
    "\n"
   ]
  }
 ],
 "metadata": {
  "kernelspec": {
   "display_name": "SSL4EO",
   "language": "python",
   "name": "ipy39"
  },
  "language_info": {
   "codemirror_mode": {
    "name": "ipython",
    "version": 3
   },
   "file_extension": ".py",
   "mimetype": "text/x-python",
   "name": "python",
   "nbconvert_exporter": "python",
   "pygments_lexer": "ipython3",
   "version": "3.10.14"
  }
 },
 "nbformat": 4,
 "nbformat_minor": 5
}
