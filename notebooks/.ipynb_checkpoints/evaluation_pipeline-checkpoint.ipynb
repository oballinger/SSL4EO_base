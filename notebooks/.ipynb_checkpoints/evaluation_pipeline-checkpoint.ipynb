{
 "cells": [
  {
   "cell_type": "code",
   "execution_count": 21,
   "id": "316f4497-6021-4788-960b-7c192e904774",
   "metadata": {},
   "outputs": [],
   "source": [
    "import os\n",
    "from pathlib import Path\n",
    "import sys\n",
    "import torch\n",
    "import numpy as np\n",
    "import matplotlib.pyplot as plt\n",
    "import seaborn as sns\n",
    "from sklearn.linear_model import LogisticRegression\n",
    "from sklearn.metrics import accuracy_score, precision_score, recall_score, f1_score\n",
    "\n",
    "if Path(os.getcwd()).name != \"SSL4EO_base\":\n",
    "    os.chdir(\"..\")\n",
    "\n",
    "from main import METHODS\n",
    "from data import constants\n",
    "from data.constants import MMEARTH_DIR, input_size\n",
    "from data.mmearth_dataset import MMEarthDataset, create_MMEearth_args, get_mmearth_dataloaders"
   ]
  },
  {
   "cell_type": "code",
   "execution_count": 39,
   "id": "c00d7307-2a1d-4dbc-8db2-495bc205a557",
   "metadata": {},
   "outputs": [],
   "source": [
    "def load_model(method,verbose=False):\n",
    "    model_path = f\"/work/data/weights/{method}/50epochs.ckpt\" # replace with your own path to data\n",
    "    model_ckpt = torch.load(model_path, map_location=\"cpu\") # no gpu required for running small samples\n",
    "    \n",
    "    hyperparameters=model_ckpt[\"hyper_parameters\"]\n",
    "    \n",
    "    if verbose:\n",
    "        print(hyperparameters)\n",
    "    \n",
    "    # intialize model from checkpoint hyper parameters\n",
    "    hparams = model_ckpt[\"hyper_parameters\"]\n",
    "    model = METHODS[method][\"model\"](\n",
    "        backbone=hparams[\"backbone\"], \n",
    "        batch_size_per_device=hparams[\"batch_size_per_device\"], \n",
    "        in_channels=hparams[\"in_channels\"], \n",
    "        num_classes=hparams[\"num_classes\"], \n",
    "        has_online_classifier=hparams[\"has_online_classifier\"], \n",
    "        last_backbone_channel=hparams[\"last_backbone_channel\"], \n",
    "        train_transform=METHODS[method][\"transform\"]\n",
    "    )\n",
    "    model.load_state_dict(model_ckpt[\"state_dict\"])\n",
    "    return model \n",
    "\n",
    "def init_mmearth(task):\n",
    "    modalities = constants.INP_MODALITIES\n",
    "    split = \"train\"\n",
    "    args = create_MMEearth_args(MMEARTH_DIR, modalities, {f'{task}': constants.MODALITIES_FULL[task]})\n",
    "    dataset = MMEarthDataset(args, split=split)\n",
    "    return dataset\n",
    "\n",
    "def retrieve_representations(num_samples, task):\n",
    "\n",
    "    s2 = []\n",
    "    labels = []\n",
    "    for idx in range(num_samples):\n",
    "        data = dataset[idx]\n",
    "        s2.append(torch.from_numpy(data[\"sentinel2\"]))\n",
    "        labels.append(data[task])\n",
    "    \n",
    "    # stack to shape: b, c, h, w\n",
    "    s2 = torch.stack(s2, 0)\n",
    "    \n",
    "    # concatentate to shape: b\n",
    "    labels = np.stack(labels, 0)\n",
    "    with torch.no_grad():\n",
    "        model.eval()\n",
    "        embeddings = model(s2).flatten(start_dim=1)\n",
    "    \n",
    "    return embeddings, labels\n",
    "    \n",
    "\n",
    "def linear_probe(embeddings, labels):\n",
    "    \n",
    "    X=list(embeddings)\n",
    "    y=list(labels) \n",
    "    \n",
    "    from sklearn.model_selection import train_test_split\n",
    "    X_train, X_test, y_train, y_test = train_test_split(X, y, test_size=0.3, random_state=1)  \n",
    "    \n",
    "    model = LogisticRegression()\n",
    "    model.fit(X_train, y_train)\n",
    "    \n",
    "    y_pred = model.predict(X_test)\n",
    "    \n",
    "    #precision = precision_score(y_test, y_pred, average='weighted')  # Adjust 'average' parameter as needed\n",
    "    #recall = recall_score(y_test, y_pred, average='weighted')\n",
    "    f1 = f1_score(y_test, y_pred, average='weighted')\n",
    "    \n",
    "    return f1"
   ]
  },
  {
   "cell_type": "code",
   "execution_count": 40,
   "id": "a096d2df-15be-4619-9b37-e02ba71430b0",
   "metadata": {},
   "outputs": [
    {
     "name": "stdout",
     "output_type": "stream",
     "text": [
      "{'backbone': 'default', 'batch_size_per_device': 512, 'in_channels': 12, 'num_classes': 14, 'has_online_classifier': True, 'last_backbone_channel': None, 'method': 'BarlowTwins'}\n",
      "Using default backbone: resnet50\n"
     ]
    },
    {
     "data": {
      "text/plain": [
       "0.3632580373518014"
      ]
     },
     "execution_count": 40,
     "metadata": {},
     "output_type": "execute_result"
    }
   ],
   "source": [
    "task='biome'\n",
    "method='barlowtwins'\n",
    "\n",
    "\n",
    "model=load_model(method)\n",
    "\n",
    "dataset=init_mmearth(task)\n",
    "\n",
    "embeddings, labels=retrieve_representations(1000, task)\n",
    "\n",
    "linear_probe(embeddings, labels)\n"
   ]
  },
  {
   "cell_type": "code",
   "execution_count": null,
   "id": "d08ec056-e423-4c9c-8814-05a714c535df",
   "metadata": {},
   "outputs": [],
   "source": [
    "modalities = constants.INP_MODALITIES\n",
    "split = \"train\"\n",
    "args = create_MMEearth_args(MMEARTH_DIR, modalities, {\"biome\": constants.MODALITIES_FULL[\"biome\"]})\n",
    "dataset = MMEarthDataset(args, split=split)"
   ]
  },
  {
   "cell_type": "code",
   "execution_count": 41,
   "id": "fb8c4cef-90a6-4a3a-8b73-fea5a51c6256",
   "metadata": {},
   "outputs": [
    {
     "data": {
      "text/plain": [
       "{'sentinel2_cloudmask': ['QA60'],\n",
       " 'sentinel2_cloudprob': ['MSK_CLDPRB'],\n",
       " 'sentinel2_scl': ['SCL'],\n",
       " 'sentinel2': ['B1',\n",
       "  'B2',\n",
       "  'B3',\n",
       "  'B4',\n",
       "  'B5',\n",
       "  'B6',\n",
       "  'B7',\n",
       "  'B8A',\n",
       "  'B8',\n",
       "  'B9',\n",
       "  'B10',\n",
       "  'B11',\n",
       "  'B12'],\n",
       " 'sentinel1': ['asc_VV',\n",
       "  'asc_VH',\n",
       "  'asc_HH',\n",
       "  'asc_HV',\n",
       "  'desc_VV',\n",
       "  'desc_VH',\n",
       "  'desc_HH',\n",
       "  'desc_HV'],\n",
       " 'aster': ['elevation', 'slope'],\n",
       " 'canopy_height_eth': ['height', 'std'],\n",
       " 'lat': ['sin', 'cos'],\n",
       " 'lon': ['sin', 'cos'],\n",
       " 'month': ['sin_month', 'cos_month'],\n",
       " 'era5': ['prev_month_avg_temp',\n",
       "  'prev_month_min_temp',\n",
       "  'prev_month_max_temp',\n",
       "  'prev_month_total_precip',\n",
       "  'curr_month_avg_temp',\n",
       "  'curr_month_min_temp',\n",
       "  'curr_month_max_temp',\n",
       "  'curr_month_total_precip',\n",
       "  'year_avg_temp',\n",
       "  'year_min_temp',\n",
       "  'year_max_temp',\n",
       "  'year_total_precip'],\n",
       " 'esa_worldcover': ['map'],\n",
       " 'dynamic_world': ['landcover'],\n",
       " 'biome': ['biome'],\n",
       " 'eco_region': ['eco_region']}"
      ]
     },
     "execution_count": 41,
     "metadata": {},
     "output_type": "execute_result"
    }
   ],
   "source": [
    "constants.MODALITIES_FULL"
   ]
  }
 ],
 "metadata": {
  "kernelspec": {
   "display_name": "SSL4EO",
   "language": "python",
   "name": "ipy39"
  },
  "language_info": {
   "codemirror_mode": {
    "name": "ipython",
    "version": 3
   },
   "file_extension": ".py",
   "mimetype": "text/x-python",
   "name": "python",
   "nbconvert_exporter": "python",
   "pygments_lexer": "ipython3",
   "version": "3.10.14"
  }
 },
 "nbformat": 4,
 "nbformat_minor": 5
}
