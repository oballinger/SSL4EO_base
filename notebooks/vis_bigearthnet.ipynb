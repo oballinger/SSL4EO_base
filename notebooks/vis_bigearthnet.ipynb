{
 "cells": [
  {
   "cell_type": "code",
   "execution_count": 1,
   "id": "3d89d1fd-c0e3-46b4-8788-dd00196b3a4a",
   "metadata": {},
   "outputs": [],
   "source": [
    "import os\n",
    "from pathlib import Path\n",
    "import sys\n",
    "import torch\n",
    "import numpy as np\n",
    "import matplotlib.pyplot as plt"
   ]
  },
  {
   "cell_type": "code",
   "execution_count": null,
   "id": "f13ed9cf-8f8c-4406-9bfe-2ba962a1fb9e",
   "metadata": {},
   "outputs": [
    {
     "name": "stdout",
     "output_type": "stream",
     "text": [
      "\u001b[34m\u001b[1mwandb\u001b[0m: Logging into wandb.ai. (Learn how to deploy a W&B server locally: https://wandb.me/wandb-server)\n",
      "\u001b[34m\u001b[1mwandb\u001b[0m: You can find your API key in your browser here: https://wandb.ai/authorize\n",
      "\u001b[34m\u001b[1mwandb\u001b[0m: Paste an API key from your profile and hit enter, or press ctrl+c to quit: \n",
      "Aborted!\n"
     ]
    }
   ],
   "source": [
    "!wandb login"
   ]
  },
  {
   "cell_type": "code",
   "execution_count": 2,
   "id": "29d62dbe-a0d0-40f1-9549-f6d5c4df9bd1",
   "metadata": {},
   "outputs": [
    {
     "name": "stderr",
     "output_type": "stream",
     "text": [
      "/work/project/cenv/ssl4eo/lib/python3.10/site-packages/tqdm/auto.py:21: TqdmWarning: IProgress not found. Please update jupyter and ipywidgets. See https://ipywidgets.readthedocs.io/en/stable/user_install.html\n",
      "  from .autonotebook import tqdm as notebook_tqdm\n"
     ]
    }
   ],
   "source": [
    "# loading python packages and files from repo root\n",
    "if Path(os.getcwd()).name != \"SSL4EO_base\":\n",
    "    os.chdir(\"..\")\n",
    "from data import GeobenchDataset"
   ]
  },
  {
   "cell_type": "code",
   "execution_count": 3,
   "id": "09a8815d-290a-44fa-912b-cb2d28f46ccd",
   "metadata": {},
   "outputs": [
    {
     "ename": "FileNotFoundError",
     "evalue": "[Errno 2] No such file or directory: '/home/ucloud/dataset/geobench/classification_v1.0'",
     "output_type": "error",
     "traceback": [
      "\u001b[0;31m---------------------------------------------------------------------------\u001b[0m",
      "\u001b[0;31mFileNotFoundError\u001b[0m                         Traceback (most recent call last)",
      "Cell \u001b[0;32mIn[3], line 5\u001b[0m\n\u001b[1;32m      2\u001b[0m dataset_name \u001b[38;5;241m=\u001b[39m \u001b[38;5;124m\"\u001b[39m\u001b[38;5;124mm-bigearthnet\u001b[39m\u001b[38;5;124m\"\u001b[39m\n\u001b[1;32m      3\u001b[0m split \u001b[38;5;241m=\u001b[39m \u001b[38;5;124m\"\u001b[39m\u001b[38;5;124mtrain\u001b[39m\u001b[38;5;124m\"\u001b[39m\n\u001b[0;32m----> 5\u001b[0m dataset \u001b[38;5;241m=\u001b[39m \u001b[43mGeobenchDataset\u001b[49m\u001b[43m(\u001b[49m\n\u001b[1;32m      6\u001b[0m \u001b[43m    \u001b[49m\u001b[43mdataset_name\u001b[49m\u001b[38;5;241;43m=\u001b[39;49m\u001b[43mdataset_name\u001b[49m\u001b[43m,\u001b[49m\n\u001b[1;32m      7\u001b[0m \u001b[43m    \u001b[49m\u001b[43msplit\u001b[49m\u001b[38;5;241;43m=\u001b[39;49m\u001b[43msplit\u001b[49m\u001b[43m,\u001b[49m\n\u001b[1;32m      8\u001b[0m \u001b[43m    \u001b[49m\u001b[43mtransform\u001b[49m\u001b[38;5;241;43m=\u001b[39;49m\u001b[38;5;28;43;01mNone\u001b[39;49;00m\u001b[43m,\u001b[49m\n\u001b[1;32m      9\u001b[0m \u001b[43m)\u001b[49m\n\u001b[1;32m     10\u001b[0m \u001b[38;5;28;01massert\u001b[39;00m \u001b[38;5;28mlen\u001b[39m(dataset) \u001b[38;5;241m>\u001b[39m \u001b[38;5;241m0\u001b[39m, \u001b[38;5;124mf\u001b[39m\u001b[38;5;124m\"\u001b[39m\u001b[38;5;124mDataset \u001b[39m\u001b[38;5;124m'\u001b[39m\u001b[38;5;132;01m{\u001b[39;00mdataset_name\u001b[38;5;132;01m}\u001b[39;00m\u001b[38;5;124m'\u001b[39m\u001b[38;5;124m should not be empty\u001b[39m\u001b[38;5;124m\"\u001b[39m\n",
      "File \u001b[0;32m/work/project/SSL4EO_base/data/geobench_dataset.py:46\u001b[0m, in \u001b[0;36mGeobenchDataset.__init__\u001b[0;34m(self, dataset_name, split, transform, partition)\u001b[0m\n\u001b[1;32m     43\u001b[0m \u001b[38;5;28;01mif\u001b[39;00m split \u001b[38;5;241m==\u001b[39m \u001b[38;5;124m\"\u001b[39m\u001b[38;5;124mval\u001b[39m\u001b[38;5;124m\"\u001b[39m:\n\u001b[1;32m     44\u001b[0m     split \u001b[38;5;241m=\u001b[39m \u001b[38;5;124m\"\u001b[39m\u001b[38;5;124mvalid\u001b[39m\u001b[38;5;124m\"\u001b[39m\n\u001b[0;32m---> 46\u001b[0m task, benchmark_name \u001b[38;5;241m=\u001b[39m \u001b[38;5;28;43mself\u001b[39;49m\u001b[38;5;241;43m.\u001b[39;49m\u001b[43mget_task\u001b[49m\u001b[43m(\u001b[49m\u001b[43mdataset_name\u001b[49m\u001b[43m)\u001b[49m\n\u001b[1;32m     48\u001b[0m \u001b[38;5;28mself\u001b[39m\u001b[38;5;241m.\u001b[39mbenchmark_name \u001b[38;5;241m=\u001b[39m benchmark_name\n\u001b[1;32m     49\u001b[0m \u001b[38;5;28mself\u001b[39m\u001b[38;5;241m.\u001b[39mtransform \u001b[38;5;241m=\u001b[39m transform\n",
      "File \u001b[0;32m/work/project/SSL4EO_base/data/geobench_dataset.py:86\u001b[0m, in \u001b[0;36mGeobenchDataset.get_task\u001b[0;34m(dataset_name)\u001b[0m\n\u001b[1;32m     84\u001b[0m     benchmark_name_ \u001b[38;5;241m=\u001b[39m \u001b[38;5;124m\"\u001b[39m\u001b[38;5;124msegmentation_v1.0/\u001b[39m\u001b[38;5;124m\"\u001b[39m\n\u001b[1;32m     85\u001b[0m task \u001b[38;5;241m=\u001b[39m \u001b[38;5;28;01mNone\u001b[39;00m\n\u001b[0;32m---> 86\u001b[0m \u001b[38;5;28;01mfor\u001b[39;00m task_ \u001b[38;5;129;01min\u001b[39;00m geobench\u001b[38;5;241m.\u001b[39mtask_iterator(benchmark_name\u001b[38;5;241m=\u001b[39mbenchmark_name_):\n\u001b[1;32m     87\u001b[0m     \u001b[38;5;28;01mif\u001b[39;00m task_\u001b[38;5;241m.\u001b[39mdataset_name \u001b[38;5;241m==\u001b[39m dataset_name:\n\u001b[1;32m     88\u001b[0m         task \u001b[38;5;241m=\u001b[39m task_\n",
      "File \u001b[0;32m/work/project/cenv/ssl4eo/lib/python3.10/site-packages/geobench/task.py:224\u001b[0m, in \u001b[0;36mtask_iterator\u001b[0;34m(benchmark_name, ignore_task, benchmark_dir)\u001b[0m\n\u001b[1;32m    221\u001b[0m \u001b[38;5;28;01melse\u001b[39;00m:\n\u001b[1;32m    222\u001b[0m     benchmark_dir_path \u001b[38;5;241m=\u001b[39m Path(benchmark_dir)\n\u001b[0;32m--> 224\u001b[0m \u001b[38;5;28;01mfor\u001b[39;00m dataset_dir \u001b[38;5;129;01min\u001b[39;00m benchmark_dir_path\u001b[38;5;241m.\u001b[39miterdir():\n\u001b[1;32m    225\u001b[0m     \u001b[38;5;28;01mif\u001b[39;00m \u001b[38;5;129;01mnot\u001b[39;00m dataset_dir\u001b[38;5;241m.\u001b[39mis_dir():\n\u001b[1;32m    226\u001b[0m         \u001b[38;5;28;01mcontinue\u001b[39;00m\n",
      "File \u001b[0;32m/work/project/cenv/ssl4eo/lib/python3.10/pathlib.py:1017\u001b[0m, in \u001b[0;36mPath.iterdir\u001b[0;34m(self)\u001b[0m\n\u001b[1;32m   1013\u001b[0m \u001b[38;5;28;01mdef\u001b[39;00m \u001b[38;5;21miterdir\u001b[39m(\u001b[38;5;28mself\u001b[39m):\n\u001b[1;32m   1014\u001b[0m \u001b[38;5;250m    \u001b[39m\u001b[38;5;124;03m\"\"\"Iterate over the files in this directory.  Does not yield any\u001b[39;00m\n\u001b[1;32m   1015\u001b[0m \u001b[38;5;124;03m    result for the special paths '.' and '..'.\u001b[39;00m\n\u001b[1;32m   1016\u001b[0m \u001b[38;5;124;03m    \"\"\"\u001b[39;00m\n\u001b[0;32m-> 1017\u001b[0m     \u001b[38;5;28;01mfor\u001b[39;00m name \u001b[38;5;129;01min\u001b[39;00m \u001b[38;5;28;43mself\u001b[39;49m\u001b[38;5;241;43m.\u001b[39;49m\u001b[43m_accessor\u001b[49m\u001b[38;5;241;43m.\u001b[39;49m\u001b[43mlistdir\u001b[49m\u001b[43m(\u001b[49m\u001b[38;5;28;43mself\u001b[39;49m\u001b[43m)\u001b[49m:\n\u001b[1;32m   1018\u001b[0m         \u001b[38;5;28;01mif\u001b[39;00m name \u001b[38;5;129;01min\u001b[39;00m {\u001b[38;5;124m'\u001b[39m\u001b[38;5;124m.\u001b[39m\u001b[38;5;124m'\u001b[39m, \u001b[38;5;124m'\u001b[39m\u001b[38;5;124m..\u001b[39m\u001b[38;5;124m'\u001b[39m}:\n\u001b[1;32m   1019\u001b[0m             \u001b[38;5;66;03m# Yielding a path object for these makes little sense\u001b[39;00m\n\u001b[1;32m   1020\u001b[0m             \u001b[38;5;28;01mcontinue\u001b[39;00m\n",
      "\u001b[0;31mFileNotFoundError\u001b[0m: [Errno 2] No such file or directory: '/home/ucloud/dataset/geobench/classification_v1.0'"
     ]
    }
   ],
   "source": [
    "# initialize dataset\n",
    "dataset_name = \"m-bigearthnet\"\n",
    "split = \"train\"\n",
    "\n",
    "dataset = GeobenchDataset(\n",
    "    dataset_name=dataset_name,\n",
    "    split=split,\n",
    "    transform=None,\n",
    ")\n",
    "assert len(dataset) > 0, f\"Dataset '{dataset_name}' should not be empty\""
   ]
  },
  {
   "cell_type": "markdown",
   "id": "c43349e1-de11-427d-ba6e-c29b4638dbfb",
   "metadata": {},
   "source": [
    "## Visual Inspection of Samples"
   ]
  },
  {
   "cell_type": "code",
   "execution_count": null,
   "id": "9ae9fbc6-9294-46f3-be12-4f3302b74b0d",
   "metadata": {},
   "outputs": [],
   "source": [
    "# choosing a random sample\n",
    "data = dataset[42]"
   ]
  },
  {
   "cell_type": "code",
   "execution_count": null,
   "id": "dc75a74b-781c-4428-9d76-f7483f72e0ca",
   "metadata": {},
   "outputs": [],
   "source": [
    "s2 = data[0]\n",
    "print(s2.shape)\n",
    "\n",
    "labels = data[1]\n",
    "print(labels.shape)"
   ]
  },
  {
   "cell_type": "code",
   "execution_count": null,
   "id": "cdb1381d-3268-4322-a0ba-c0466ed8b123",
   "metadata": {},
   "outputs": [],
   "source": [
    "# helper function to show images\n",
    "def display_s2_image(s2, ax=None):\n",
    "    if ax is None:\n",
    "        ax = plt\n",
    "    rgb_s2 = s2[[3, 2, 1]]\n",
    "    # normalize for showing\n",
    "    rgb_min = rgb_s2.min(axis=(1, 2), keepdims=True)\n",
    "    rgb_max = rgb_s2.max(axis=(1, 2), keepdims=True)\n",
    "    rgb_s2 = (rgb_s2 - rgb_min) / (rgb_max - rgb_min)\n",
    "    ax.imshow(np.moveaxis(rgb_s2, 0, -1))"
   ]
  },
  {
   "cell_type": "code",
   "execution_count": null,
   "id": "f77ad520-7a77-414c-ba0f-9a183d41a578",
   "metadata": {
    "scrolled": true
   },
   "outputs": [],
   "source": [
    "display_s2_image(s2)"
   ]
  },
  {
   "cell_type": "markdown",
   "id": "a6d19eec-b791-4f11-a65e-8f56a1a70806",
   "metadata": {},
   "source": [
    "### More Images"
   ]
  },
  {
   "cell_type": "code",
   "execution_count": null,
   "id": "fc411196-ef43-40f1-974c-8ac2c4a70dde",
   "metadata": {},
   "outputs": [],
   "source": [
    "num_samples = 10\n",
    "\n",
    "f, axes = plt.subplots(num_samples, figsize=(20, 20))\n",
    "for i, ax in enumerate(axes):\n",
    "    data = dataset[i]\n",
    "    s2 = data[0]\n",
    "    display_s2_image(s2, ax)"
   ]
  },
  {
   "cell_type": "code",
   "execution_count": null,
   "id": "7cc78511-7469-4434-9194-9794406139ee",
   "metadata": {},
   "outputs": [],
   "source": []
  }
 ],
 "metadata": {
  "kernelspec": {
   "display_name": "SSL4EO",
   "language": "python",
   "name": "ipy39"
  },
  "language_info": {
   "codemirror_mode": {
    "name": "ipython",
    "version": 3
   },
   "file_extension": ".py",
   "mimetype": "text/x-python",
   "name": "python",
   "nbconvert_exporter": "python",
   "pygments_lexer": "ipython3",
   "version": "3.10.14"
  }
 },
 "nbformat": 4,
 "nbformat_minor": 5
}
